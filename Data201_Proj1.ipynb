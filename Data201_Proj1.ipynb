{
 "cells": [
  {
   "cell_type": "code",
   "execution_count": 99,
   "metadata": {},
   "outputs": [],
   "source": [
    "%matplotlib inline\n",
    "import numpy as np\n",
    "import pandas as pd\n",
    "import matplotlib.pyplot as plt"
   ]
  },
  {
   "cell_type": "code",
   "execution_count": 100,
   "metadata": {},
   "outputs": [],
   "source": [
    "# This is the 2019 AIRBNB data for the NY city downloaded from Kaggle. Price for some of the records is for single night and -\n",
    "# for some it's total price for the minimum_nights listed. To avoid Price inconsistency, I considered only the records -\n",
    "# with minimum_nights = 1 and split them by price to create three separate dataframes. To analyze Quantitative and Categorical -\n",
    "# variables and to simulate nonparametric inference of Median I used one of the three dataframes, AB200, with has maximum -\n",
    "# records. I wanted to explore nonparametric distribution and frequency distribution of price, and comparison of listings by -\n",
    "# neighborhood"
   ]
  },
  {
   "cell_type": "code",
   "execution_count": 101,
   "metadata": {},
   "outputs": [
    {
     "data": {
      "text/plain": [
       "id                                  int64\n",
       "name                               object\n",
       "host_id                             int64\n",
       "host_name                          object\n",
       "neighbourhood_group                object\n",
       "neighbourhood                      object\n",
       "latitude                          float64\n",
       "longitude                         float64\n",
       "room_type                          object\n",
       "price                               int64\n",
       "minimum_nights                      int64\n",
       "number_of_reviews                   int64\n",
       "last_review                        object\n",
       "reviews_per_month                 float64\n",
       "calculated_host_listings_count      int64\n",
       "availability_365                    int64\n",
       "dtype: object"
      ]
     },
     "execution_count": 101,
     "metadata": {},
     "output_type": "execute_result"
    }
   ],
   "source": [
    "# 2019 AIRBNB data for NY city\n",
    "# https://www.kaggle.com/dgomonov/new-york-city-airbnb-open-data\n",
    "ABNYC2019 = pd.read_csv(\"AB_NYC2019.csv\")\n",
    "ABNYC2019.dtypes"
   ]
  },
  {
   "cell_type": "code",
   "execution_count": 102,
   "metadata": {},
   "outputs": [],
   "source": [
    "# Split the original data based on price and minimum nights\n",
    "AB200 = ABNYC2019[(ABNYC2019.minimum_nights == 1) & (ABNYC2019.price <= 200)]\n",
    "AB500 = ABNYC2019[(ABNYC2019.minimum_nights == 1) & ((ABNYC2019.price > 200) & (ABNYC2019.price <= 500))]\n",
    "ABmax = ABNYC2019[(ABNYC2019.minimum_nights == 1) & (ABNYC2019.price > 500)]"
   ]
  },
  {
   "cell_type": "code",
   "execution_count": 103,
   "metadata": {},
   "outputs": [
    {
     "name": "stdout",
     "output_type": "stream",
     "text": [
      "(11138, 16)\n",
      "(1303, 16)\n",
      "(279, 16)\n"
     ]
    }
   ],
   "source": [
    "print(AB200.shape)\n",
    "print(AB500.shape)\n",
    "print(ABmax.shape)"
   ]
  },
  {
   "cell_type": "code",
   "execution_count": 104,
   "metadata": {},
   "outputs": [
    {
     "data": {
      "text/plain": [
       "8000"
      ]
     },
     "execution_count": 104,
     "metadata": {},
     "output_type": "execute_result"
    }
   ],
   "source": [
    "ABmax.price.max()"
   ]
  },
  {
   "cell_type": "code",
   "execution_count": 105,
   "metadata": {},
   "outputs": [
    {
     "data": {
      "text/plain": [
       "Text(0, 0.5, 'Frequency')"
      ]
     },
     "execution_count": 105,
     "metadata": {},
     "output_type": "execute_result"
    },
    {
     "data": {
      "image/png": "[encoded data removed]",
      "text/plain": [
       "<Figure size 432x288 with 1 Axes>"
      ]
     },
     "metadata": {
      "needs_background": "light"
     },
     "output_type": "display_data"
    }
   ],
   "source": [
    "# Histograms for the quantitative variable \"price\"\n",
    "plt.hist(AB200.price)\n",
    "plt.title(\"Number of listings for price <= 200\")\n",
    "plt.xlabel(\"Price\")\n",
    "plt.ylabel(\"Frequency\")"
   ]
  },
  {
   "cell_type": "code",
   "execution_count": 106,
   "metadata": {},
   "outputs": [
    {
     "data": {
      "text/plain": [
       "Text(0, 0.5, 'Frequency')"
      ]
     },
     "execution_count": 106,
     "metadata": {},
     "output_type": "execute_result"
    },
    {
     "data": {
      "image/png": "[encoded data removed]",
      "text/plain": [
       "<Figure size 432x288 with 1 Axes>"
      ]
     },
     "metadata": {
      "needs_background": "light"
     },
     "output_type": "display_data"
    }
   ],
   "source": [
    "plt.hist(AB500.price)\n",
    "plt.title(\"Number of listings for price > 200 & <= 500\")\n",
    "plt.xlabel(\"Price\")\n",
    "plt.ylabel(\"Frequency\")"
   ]
  },
  {
   "cell_type": "code",
   "execution_count": 107,
   "metadata": {},
   "outputs": [
    {
     "data": {
      "text/plain": [
       "Text(0, 0.5, 'Frequency')"
      ]
     },
     "execution_count": 107,
     "metadata": {},
     "output_type": "execute_result"
    },
    {
     "data": {
      "image/png": "[encoded data removed]",
      "text/plain": [
       "<Figure size 432x288 with 1 Axes>"
      ]
     },
     "metadata": {
      "needs_background": "light"
     },
     "output_type": "display_data"
    }
   ],
   "source": [
    "plt.hist(ABmax.price)\n",
    "plt.title(\"Number of listings for price > 500\")\n",
    "plt.xlabel(\"Price\")\n",
    "plt.ylabel(\"Frequency\")"
   ]
  },
  {
   "cell_type": "code",
   "execution_count": 108,
   "metadata": {},
   "outputs": [
    {
     "data": {
      "text/plain": [
       "Text(0, 0.5, 'Frequency')"
      ]
     },
     "execution_count": 108,
     "metadata": {},
     "output_type": "execute_result"
    },
    {
     "data": {
      "image/png": "[encoded data removed]",
      "text/plain": [
       "<Figure size 432x288 with 1 Axes>"
      ]
     },
     "metadata": {
      "needs_background": "light"
     },
     "output_type": "display_data"
    }
   ],
   "source": [
    "plt.hist(AB200.price)\n",
    "plt.hist(AB500.price)\n",
    "plt.title(\"Comparision of listings for price <= 200, and price > 200 & <= 500 \")\n",
    "plt.xlabel(\"Price\")\n",
    "plt.ylabel(\"Frequency\")"
   ]
  },
  {
   "cell_type": "code",
   "execution_count": 109,
   "metadata": {},
   "outputs": [],
   "source": [
    "# Take 10% of AB200 as random sample and repeat the sample 10 times\n",
    "idx = np.random.choice(AB200.shape[0], 1000)\n"
   ]
  },
  {
   "cell_type": "code",
   "execution_count": 110,
   "metadata": {},
   "outputs": [
    {
     "data": {
      "text/plain": [
       "array([ 7424,  3433,  3210,  5759,    17,  8374,  6362,   938,  9275,\n",
       "       10037,  3630, 11131,  1114, 10316,  2771,   477, 11070,   334,\n",
       "        3623,  5993,  8277,   480,  8199,  1855,  5532,   539,  8877,\n",
       "        5680,  6290,  3536,  3716,  6411,  9079,  6066,  2736,  2831,\n",
       "         439,  6776,  2523,   627,  3523, 11005,  4858,  8106,   739,\n",
       "        8121,  4538,  3298,  6566,  9945,  4860,  5784,  8303,  2861,\n",
       "        1871,  4512,  9607,  2349,   304,  6315,  7000,  4219,  7776,\n",
       "       10778,  8188,  1271, 10724,  7712,   940,  6377,  5996,  9607,\n",
       "        3182,  1849,  7516,  6949,  6064,  6330,  9717,  1275,  4807,\n",
       "        6286,  4504, 10893,  4446,  3590,   615,  5959,  6717,  1481,\n",
       "        5236,  7424,  7308,  5733,  2002,  2789,  1671,  1105,  9815,\n",
       "        3555,   962,  4100,  2863,  2820,  2757,  7439,  1828,  2439,\n",
       "        9583,  1361,  1140,  3142,  1028,  7103,  9537, 10133,  5495,\n",
       "         811,   473,  8647, 10378,   536, 11082,  6790,  5269,  8537,\n",
       "       10505,  8607,  3195,  4680,  9312,  2189,  3196, 11095,  7732,\n",
       "        6689,  5449,  2254,   764,  4303,  8460,  8525,  9412,  3489,\n",
       "         819,  1816,  4211,  4460,  9065, 10927,  8304,  9752,  5875,\n",
       "        6680,  2216,  8411,  2972,  1201,  8697,   444,  9747,  5057,\n",
       "        7006,  8738,  5342,  2134,  2357,  3960,  3500,  6003,  2352,\n",
       "        4119,  2504,  2172,  4056,  7177,  5979,  5502,  3170,   275,\n",
       "        4124, 10452,  6585,  5286,  7508,  2397,  1445,   290,  9600,\n",
       "         386,  9555,  6197,   361,  9499,   991,  9914,  4760,   580,\n",
       "       10291,  3249,  8904, 10235,  6004,  5611,  1987,  8127,    33,\n",
       "        8890,  1855, 10800,  6887,  8668,  7112, 10558,  6919,  1489,\n",
       "        9001,  1496,  3967,  3135,  9099,  7848,  1288,  8852,  8634,\n",
       "       10960,  6082,  2605,  7479,  1898,  3433,  1686,  4112,  1517,\n",
       "         118,  9803,  7739, 10928,  8748,  5345,  8409,  7642,  1790,\n",
       "        8354,   603, 10018,  2055, 10134,  5743,  4124,  6512,  4503,\n",
       "        6339,  9346,  1482,  1471,  4973,  4048,  2707,  8768,  3757,\n",
       "        2609,  5059, 11000,  9237, 10408,  8214,  7142,   738,  9904,\n",
       "        4430,  2780,  1391,  8294,  1920,  6019,  6978,  6698,  8082,\n",
       "        4737,   851, 10313,  2695,  5643,  7577,  3907,  5532,  1164,\n",
       "        9732,  2880,  1482,  2902,  6669,  6901,  4637,   134, 10921,\n",
       "        4172,  1297,  6294,  9610,  9970,  4262,  1277,  3881, 10931,\n",
       "        9424, 10599,  6206,  9022,  8569,  7455, 10948, 10836,   731,\n",
       "        5261,  5525,  3515,  6817,  5547,  4896,  4936,  1757,  3920,\n",
       "        2775,  2916,  9750, 11005,  1144,  1830,   772,   901,  6156,\n",
       "        6136,  5153,  2068,  5997,  5098,  1828,  9130,  9026,  8120,\n",
       "       10840,  3865,  1055,  4701,  8469,  5566,  9798,  3140,  4891,\n",
       "        3690,  1168, 11041,  1053,   917,  7123,  3545,   950,  4400,\n",
       "        8501,  6138,  3940,  3477, 10031,   797,  7097,  7731,  3816,\n",
       "        7977,  6548,   994,  1424,  1819,   505,  9196,  1293,  2892,\n",
       "        3163, 10183,  7219,  7329,  8378,  6420, 10152,  3801,  5228,\n",
       "          20,  8984, 10323,  9675, 10973, 10797,  4209,  8748,  9047,\n",
       "        9186,  4584,  2085,  8724,  1562,  6838,  8905, 10544,  1770,\n",
       "        2508,  4287,  3405, 10528,  6819,  2364,  7926,  9309,  9900,\n",
       "        2419,  8865,  5284,  2947,  7093,  1257,  2991,  1317,  7981,\n",
       "        6103,  4950,  3545, 10809,  2744,   294,  4316,  2681,   122,\n",
       "        8645,  5855,  8145,  6216,  7004,  9313,  2308,   492,   882,\n",
       "        8589,  3465,  7029,  1060,  4391,  6281, 10523,   580,  2859,\n",
       "        7693,  4317,  5787,  5499,  7697, 10660,  8202,  9723,  9270,\n",
       "        9670,   644,  8425,  1389,  2758,  7932,  6714,  7964, 10216,\n",
       "        3549,  6281,  6604,  5522,  5493,  3216,  5362,  6995,  8535,\n",
       "        5277, 10248,  4471,  1887,  3978,  1148,  7005,  6721,  9310,\n",
       "        7467,  7755,  5010,  9024,  8839,  1337,  9550,  6834,  7207,\n",
       "        3607,  1351,  9068, 10558,  2241,  6949,  1465,   792,  2781,\n",
       "          45,  7754,  1502,  4996,   266,  7314,  7221,  1332,  1086,\n",
       "        4064,  1914,  8319,  8303,  1180,  7693,   159,  1064,  5709,\n",
       "        9498,  7791,  8012,  4811,  4588,  2320,    83,  8055,  7536,\n",
       "       10229,  2607,  6384,  6669,  3811,  9127,  1188,  3146,  1167,\n",
       "        1521,  9777,  2678,  9160,  7721,   130, 10580,  1930,  3024,\n",
       "        5561,  7239,  8196,  4875,  9599,  8713,  8363,  7072,  9479,\n",
       "        4759,  3803, 10084,  9343,  7539,   150,  8391,  1055,  1954,\n",
       "        5052,  5404,  6117,  6355,  1711,  5845,  6131,  4592,  2883,\n",
       "        2808,  3126,  7436,  3525,  8096, 10564,  1880,  9313,  3595,\n",
       "        1296,  4070,  3267,  6050,  1969,  9712,  3289,  7849,  2505,\n",
       "        7090,  8643,  7955,  1379,  8961,  7125,   185,  3610,  7317,\n",
       "        4244,  5047,   128,  1405,  5129,  8553,  4722,  6154,   667,\n",
       "        2175,  4335,  1596,  5901,  5433,  9636, 10626,  3576,  8852,\n",
       "        7946,  8600,  2905,  2530,  7999, 10986,  7807,  4375,  4688,\n",
       "        9463,  5081,  3755, 10159,  5868,   153,  3429,  4891,  4151,\n",
       "         503,  1625,  2778,  7473,  9702,  8941,  3551,  6306,  3034,\n",
       "        8797,  5482,  6471,  5700,  6065, 10991,  3939,  5074,  9154,\n",
       "        2207,  6376,  7530, 10245, 10547, 10112,  1432,  8290,  4651,\n",
       "         975,  5019,  9543,  5359,  3212,  3686,  4375,  1883,  8868,\n",
       "        9970,  5678,  6382,  7244,  6557,  1178, 10341,  1060,  8441,\n",
       "         871,  2540, 10408,  2852,  8667,  9209,  9628,  6321, 10746,\n",
       "       10106, 10485,  2886,  4591,  3787,  1051,  5849,  5290,  8272,\n",
       "        9583,  6277,  5452, 10340,  3778,   783,  8046,  1518,  1302,\n",
       "        1257,  1169,  1065,  1464,  5086,   156,  2345,  9992,  4344,\n",
       "        3925,  3184,  6990,   570,  7702,  6438, 10774,  8845,  2915,\n",
       "        2783,  7555,  7526,  5498,  2237,   243,  5113,  1602,  8811,\n",
       "        9431,  3337,  8094,  6066,  9687,  9080,   873,  3674, 10399,\n",
       "        4215,  7000,    59,  4609,  5729,  9819,  3977,  8860,  3177,\n",
       "       10540,  1302,  3346,  6581, 10792,  4537,  9514,  7188,  3748,\n",
       "        2746,  3597,  4075,  4552,  5304,   459, 10519,  3785,  8816,\n",
       "        8508, 10711,  5500,  4297, 10368,   987,  4657,   315,  9505,\n",
       "        1532,  2849,  7357,  1005,  8478,  1009, 10018,  8470,  3504,\n",
       "        1585,  3125,   155,  8363,  9868, 11079,  2139,  3492, 10329,\n",
       "        5889, 10844,    79,   964,  7526,  9702,  9062,   185,  4476,\n",
       "        8103,  2564,  8423,  6610,  8912,  5896,  4507,  9793, 10379,\n",
       "        5760,  5613,  7346,  3221,  6069,  9942,  7054,  3077,  2710,\n",
       "        4027,  7894,  4733,  1222,  8371,  5464,  9901,    25, 10993,\n",
       "        8807,  1178,  2873,  9341, 10969,  3230,  7391,  6487,  6775,\n",
       "        6440,  2805,   736,   961,  6682, 10065,  1782,  9615, 10004,\n",
       "        8993,  5417,   730,  1721,  4199, 10143,  9858,  5875,  1463,\n",
       "       10771,  8991,  6797, 10601,   253,  5143,  3763,  2116,  5967,\n",
       "        3883,  8313, 10681,  1441,  1483,  8545,  1776,  4415,  8317,\n",
       "        1534,  4636,  5257,   628,  7532,  5757,  4696,  1526,   421,\n",
       "        7815,  2097,   495, 10084,  8604,  2675,  9216,  5229,  7395,\n",
       "         312,  8412,    43, 10486, 10219,  8655,  6032,   473, 10147,\n",
       "        2768,  7390,  5685, 11049,   662,  4446, 10479,  8195, 10400,\n",
       "        4627,  6824,  4123,  6240,  7577,  6897,  7320, 10073,   702,\n",
       "        8817,  3454,  1941, 10466,  4256, 10733,  6435,  8428,  8289,\n",
       "        1752, 10447,   969,  5347,   593,  8698,  4930,   118,  1215,\n",
       "        6237,  9989,  1143,  1597,  1507,  5679,   572, 10274, 10525,\n",
       "         766, 10515,    63,  4851,  2294,  2374,  1512,  9435,  7691,\n",
       "        6573,  9891,  3629,  4042, 10239,  5646,  2478,  7534,  4122,\n",
       "        5064,  8322,  6582, 10402,   198,  4360, 10067,  9937,  8702,\n",
       "        7561, 10018,  8344,   846,  4345,  9314,  2468,  1072,  9911,\n",
       "         163,  5642,  9831,  3812,  2010,   387,   209,   139,  6450,\n",
       "        3399])"
      ]
     },
     "execution_count": 110,
     "metadata": {},
     "output_type": "execute_result"
    }
   ],
   "source": [
    "idx"
   ]
  },
  {
   "cell_type": "code",
   "execution_count": 111,
   "metadata": {},
   "outputs": [],
   "source": [
    "AB200_sample = AB200.iloc[idx, :]"
   ]
  },
  {
   "cell_type": "code",
   "execution_count": 112,
   "metadata": {},
   "outputs": [
    {
     "data": {
      "text/plain": [
       "(1000, 16)"
      ]
     },
     "execution_count": 112,
     "metadata": {},
     "output_type": "execute_result"
    }
   ],
   "source": [
    "AB200_sample.shape"
   ]
  },
  {
   "cell_type": "code",
   "execution_count": 113,
   "metadata": {},
   "outputs": [
    {
     "data": {
      "text/plain": [
       "80.0"
      ]
     },
     "execution_count": 113,
     "metadata": {},
     "output_type": "execute_result"
    }
   ],
   "source": [
    "# Population median for AB200\n",
    "AB200.price.median()"
   ]
  },
  {
   "cell_type": "code",
   "execution_count": 114,
   "metadata": {},
   "outputs": [
    {
     "data": {
      "text/plain": [
       "80.0"
      ]
     },
     "execution_count": 114,
     "metadata": {},
     "output_type": "execute_result"
    }
   ],
   "source": [
    "# Sample median for 10% of the random records chosen\n",
    "AB200_sample.price.median()"
   ]
  },
  {
   "cell_type": "code",
   "execution_count": 115,
   "metadata": {},
   "outputs": [],
   "source": [
    "# Repeat the random sample 10 times and calculate medians each time for non-parametric inference of the medians \n",
    "boot_sample_medians = []\n",
    "for i in range(10000):\n",
    "                boot_AB200sample = np.random.choice(AB200_sample.price, 1000)\n",
    "                boot_sample_medians.append(np.median(boot_AB200sample))       \n"
   ]
  },
  {
   "cell_type": "code",
   "execution_count": 116,
   "metadata": {},
   "outputs": [
    {
     "data": {
      "text/plain": [
       "80.0"
      ]
     },
     "execution_count": 116,
     "metadata": {},
     "output_type": "execute_result"
    }
   ],
   "source": [
    "# Calculate median of medians \n",
    "np.median(boot_sample_medians)"
   ]
  },
  {
   "cell_type": "code",
   "execution_count": 117,
   "metadata": {},
   "outputs": [
    {
     "data": {
      "text/plain": [
       "10000"
      ]
     },
     "execution_count": 117,
     "metadata": {},
     "output_type": "execute_result"
    }
   ],
   "source": [
    "len(boot_sample_medians)"
   ]
  },
  {
   "cell_type": "code",
   "execution_count": 118,
   "metadata": {},
   "outputs": [
    {
     "data": {
      "text/plain": [
       "array([79., 85.])"
      ]
     },
     "execution_count": 118,
     "metadata": {},
     "output_type": "execute_result"
    }
   ],
   "source": [
    "# Confidence interval for bootstrap medians\n",
    "confi_interval = np.percentile(boot_sample_medians, [2.5, 97.5]) # The middle 95% interval\n",
    "confi_interval"
   ]
  },
  {
   "cell_type": "code",
   "execution_count": 119,
   "metadata": {},
   "outputs": [
    {
     "data": {
      "image/png": "[encoded data removed]",
      "text/plain": [
       "<Figure size 432x288 with 1 Axes>"
      ]
     },
     "metadata": {
      "needs_background": "light"
     },
     "output_type": "display_data"
    }
   ],
   "source": [
    "# Show the confidence interval on the density plot. Clearly population median, 80, is within confidence interval of bootstrap -\n",
    "# medians of random samples. \n",
    "pd.DataFrame(boot_sample_medians).plot(kind='density')\n",
    "for endpoint in confi_interval:\n",
    "    plt.axvline(endpoint, color='red')\n"
   ]
  },
  {
   "cell_type": "code",
   "execution_count": 120,
   "metadata": {},
   "outputs": [],
   "source": [
    "import seaborn as sns\n",
    "sns.set()"
   ]
  },
  {
   "cell_type": "code",
   "execution_count": 121,
   "metadata": {},
   "outputs": [
    {
     "data": {
      "image/png": "[encoded data removed]",
      "text/plain": [
       "<Figure size 360x360 with 1 Axes>"
      ]
     },
     "metadata": {},
     "output_type": "display_data"
    }
   ],
   "source": [
    "# Bar plots for the categorical variable \"neighbourhood_group\"\n",
    "with sns.axes_style('white'):\n",
    "    g = sns.factorplot(\"neighbourhood_group\", data=AB200, aspect=1,\n",
    "                       kind=\"count\", color='steelblue')\n",
    "    plt.title(\"Listings by neighbourhood per night when price <= 200\")\n",
    "    g.set_ylabels(\"Number of listings\")"
   ]
  },
  {
   "cell_type": "code",
   "execution_count": 122,
   "metadata": {},
   "outputs": [
    {
     "data": {
      "image/png": "[encoded data removed]",
      "text/plain": [
       "<Figure size 360x360 with 1 Axes>"
      ]
     },
     "metadata": {},
     "output_type": "display_data"
    }
   ],
   "source": [
    "with sns.axes_style('white'):\n",
    "    g = sns.factorplot(\"neighbourhood_group\", data=ABmax, aspect=1,\n",
    "                       kind=\"count\", color='steelblue')\n",
    "    plt.title(\"Listings by neighbourhood per night when price > 500\")\n",
    "    g.set_ylabels(\"Number of listings\")"
   ]
  },
  {
   "cell_type": "code",
   "execution_count": null,
   "metadata": {},
   "outputs": [],
   "source": []
  }
 ],
 "metadata": {
  "kernelspec": {
   "display_name": "Python 3",
   "language": "python",
   "name": "python3"
  },
  "language_info": {
   "codemirror_mode": {
    "name": "ipython",
    "version": 3
   },
   "file_extension": ".py",
   "mimetype": "text/x-python",
   "name": "python",
   "nbconvert_exporter": "python",
   "pygments_lexer": "ipython3",
   "version": "3.7.3"
  }
 },
 "nbformat": 4,
 "nbformat_minor": 2
}
