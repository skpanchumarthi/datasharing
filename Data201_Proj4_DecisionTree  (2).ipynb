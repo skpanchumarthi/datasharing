{
 "cells": [
  {
   "cell_type": "markdown",
   "metadata": {},
   "source": [
    "#### https://www.kaggle.com/uciml/pima-indians-diabetes-database/data#\n",
    "#### Objective of the model is predict whether or not a patient has diabetes, based on certain diagnostic measurements/predictor variables. All the patients are female. "
   ]
  },
  {
   "cell_type": "code",
   "execution_count": 90,
   "metadata": {},
   "outputs": [],
   "source": [
    "%matplotlib inline\n",
    "import matplotlib.pyplot as plt\n",
    "import numpy as np\n",
    "import pandas as pd\n",
    "from sklearn.tree import DecisionTreeClassifier\n",
    "from sklearn.tree import DecisionTreeRegressor\n",
    "from sklearn.model_selection import train_test_split\n",
    "from sklearn.model_selection import cross_val_score\n",
    "from sklearn.metrics import accuracy_score\n",
    "from sklearn.metrics import mean_squared_error as MSE\n"
   ]
  },
  {
   "cell_type": "code",
   "execution_count": 91,
   "metadata": {},
   "outputs": [
    {
     "data": {
      "text/html": [
       "<div>\n",
       "<style scoped>\n",
       "    .dataframe tbody tr th:only-of-type {\n",
       "        vertical-align: middle;\n",
       "    }\n",
       "\n",
       "    .dataframe tbody tr th {\n",
       "        vertical-align: top;\n",
       "    }\n",
       "\n",
       "    .dataframe thead th {\n",
       "        text-align: right;\n",
       "    }\n",
       "</style>\n",
       "<table border=\"1\" class=\"dataframe\">\n",
       "  <thead>\n",
       "    <tr style=\"text-align: right;\">\n",
       "      <th></th>\n",
       "      <th>Pregnancies</th>\n",
       "      <th>Glucose</th>\n",
       "      <th>BloodPressure</th>\n",
       "      <th>SkinThickness</th>\n",
       "      <th>Insulin</th>\n",
       "      <th>BMI</th>\n",
       "      <th>DiabetesPedigreeFunction</th>\n",
       "      <th>Age</th>\n",
       "      <th>Outcome</th>\n",
       "    </tr>\n",
       "  </thead>\n",
       "  <tbody>\n",
       "    <tr>\n",
       "      <th>0</th>\n",
       "      <td>6</td>\n",
       "      <td>148</td>\n",
       "      <td>72</td>\n",
       "      <td>35</td>\n",
       "      <td>0</td>\n",
       "      <td>33.6</td>\n",
       "      <td>0.627</td>\n",
       "      <td>50</td>\n",
       "      <td>1</td>\n",
       "    </tr>\n",
       "    <tr>\n",
       "      <th>1</th>\n",
       "      <td>1</td>\n",
       "      <td>85</td>\n",
       "      <td>66</td>\n",
       "      <td>29</td>\n",
       "      <td>0</td>\n",
       "      <td>26.6</td>\n",
       "      <td>0.351</td>\n",
       "      <td>31</td>\n",
       "      <td>0</td>\n",
       "    </tr>\n",
       "    <tr>\n",
       "      <th>2</th>\n",
       "      <td>8</td>\n",
       "      <td>183</td>\n",
       "      <td>64</td>\n",
       "      <td>0</td>\n",
       "      <td>0</td>\n",
       "      <td>23.3</td>\n",
       "      <td>0.672</td>\n",
       "      <td>32</td>\n",
       "      <td>1</td>\n",
       "    </tr>\n",
       "    <tr>\n",
       "      <th>3</th>\n",
       "      <td>1</td>\n",
       "      <td>89</td>\n",
       "      <td>66</td>\n",
       "      <td>23</td>\n",
       "      <td>94</td>\n",
       "      <td>28.1</td>\n",
       "      <td>0.167</td>\n",
       "      <td>21</td>\n",
       "      <td>0</td>\n",
       "    </tr>\n",
       "    <tr>\n",
       "      <th>4</th>\n",
       "      <td>0</td>\n",
       "      <td>137</td>\n",
       "      <td>40</td>\n",
       "      <td>35</td>\n",
       "      <td>168</td>\n",
       "      <td>43.1</td>\n",
       "      <td>2.288</td>\n",
       "      <td>33</td>\n",
       "      <td>1</td>\n",
       "    </tr>\n",
       "  </tbody>\n",
       "</table>\n",
       "</div>"
      ],
      "text/plain": [
       "   Pregnancies  Glucose  BloodPressure  SkinThickness  Insulin   BMI  \\\n",
       "0            6      148             72             35        0  33.6   \n",
       "1            1       85             66             29        0  26.6   \n",
       "2            8      183             64              0        0  23.3   \n",
       "3            1       89             66             23       94  28.1   \n",
       "4            0      137             40             35      168  43.1   \n",
       "\n",
       "   DiabetesPedigreeFunction  Age  Outcome  \n",
       "0                     0.627   50        1  \n",
       "1                     0.351   31        0  \n",
       "2                     0.672   32        1  \n",
       "3                     0.167   21        0  \n",
       "4                     2.288   33        1  "
      ]
     },
     "execution_count": 91,
     "metadata": {},
     "output_type": "execute_result"
    }
   ],
   "source": [
    "diabetes = pd.read_csv(\"diabetes.csv\")\n",
    "diabetes.dtypes\n",
    "diabetes.head()"
   ]
  },
  {
   "cell_type": "code",
   "execution_count": 92,
   "metadata": {},
   "outputs": [
    {
     "name": "stdout",
     "output_type": "stream",
     "text": [
      "(768, 8) (768,)\n"
     ]
    },
    {
     "data": {
      "text/html": [
       "<div>\n",
       "<style scoped>\n",
       "    .dataframe tbody tr th:only-of-type {\n",
       "        vertical-align: middle;\n",
       "    }\n",
       "\n",
       "    .dataframe tbody tr th {\n",
       "        vertical-align: top;\n",
       "    }\n",
       "\n",
       "    .dataframe thead th {\n",
       "        text-align: right;\n",
       "    }\n",
       "</style>\n",
       "<table border=\"1\" class=\"dataframe\">\n",
       "  <thead>\n",
       "    <tr style=\"text-align: right;\">\n",
       "      <th></th>\n",
       "      <th>Pregnancies</th>\n",
       "      <th>Glucose</th>\n",
       "      <th>BloodPressure</th>\n",
       "      <th>SkinThickness</th>\n",
       "      <th>Insulin</th>\n",
       "      <th>BMI</th>\n",
       "      <th>DiabetesPedigreeFunction</th>\n",
       "      <th>Age</th>\n",
       "    </tr>\n",
       "  </thead>\n",
       "  <tbody>\n",
       "    <tr>\n",
       "      <th>0</th>\n",
       "      <td>6</td>\n",
       "      <td>148</td>\n",
       "      <td>72</td>\n",
       "      <td>35</td>\n",
       "      <td>0</td>\n",
       "      <td>33.6</td>\n",
       "      <td>0.627</td>\n",
       "      <td>50</td>\n",
       "    </tr>\n",
       "    <tr>\n",
       "      <th>1</th>\n",
       "      <td>1</td>\n",
       "      <td>85</td>\n",
       "      <td>66</td>\n",
       "      <td>29</td>\n",
       "      <td>0</td>\n",
       "      <td>26.6</td>\n",
       "      <td>0.351</td>\n",
       "      <td>31</td>\n",
       "    </tr>\n",
       "    <tr>\n",
       "      <th>2</th>\n",
       "      <td>8</td>\n",
       "      <td>183</td>\n",
       "      <td>64</td>\n",
       "      <td>0</td>\n",
       "      <td>0</td>\n",
       "      <td>23.3</td>\n",
       "      <td>0.672</td>\n",
       "      <td>32</td>\n",
       "    </tr>\n",
       "    <tr>\n",
       "      <th>3</th>\n",
       "      <td>1</td>\n",
       "      <td>89</td>\n",
       "      <td>66</td>\n",
       "      <td>23</td>\n",
       "      <td>94</td>\n",
       "      <td>28.1</td>\n",
       "      <td>0.167</td>\n",
       "      <td>21</td>\n",
       "    </tr>\n",
       "    <tr>\n",
       "      <th>4</th>\n",
       "      <td>0</td>\n",
       "      <td>137</td>\n",
       "      <td>40</td>\n",
       "      <td>35</td>\n",
       "      <td>168</td>\n",
       "      <td>43.1</td>\n",
       "      <td>2.288</td>\n",
       "      <td>33</td>\n",
       "    </tr>\n",
       "  </tbody>\n",
       "</table>\n",
       "</div>"
      ],
      "text/plain": [
       "   Pregnancies  Glucose  BloodPressure  SkinThickness  Insulin   BMI  \\\n",
       "0            6      148             72             35        0  33.6   \n",
       "1            1       85             66             29        0  26.6   \n",
       "2            8      183             64              0        0  23.3   \n",
       "3            1       89             66             23       94  28.1   \n",
       "4            0      137             40             35      168  43.1   \n",
       "\n",
       "   DiabetesPedigreeFunction  Age  \n",
       "0                     0.627   50  \n",
       "1                     0.351   31  \n",
       "2                     0.672   32  \n",
       "3                     0.167   21  \n",
       "4                     2.288   33  "
      ]
     },
     "execution_count": 92,
     "metadata": {},
     "output_type": "execute_result"
    }
   ],
   "source": [
    "# Target variable is Outcome, 0 is not diabetic, 1 is diabetic. Except the last column, all are predictor variables (X)\n",
    "X = diabetes.iloc[:,:8]\n",
    "y = diabetes.Outcome\n",
    "print(X.shape, y.shape)\n",
    "X.head()"
   ]
  },
  {
   "cell_type": "code",
   "execution_count": 93,
   "metadata": {},
   "outputs": [
    {
     "data": {
      "text/plain": [
       "0    1\n",
       "1    0\n",
       "2    1\n",
       "3    0\n",
       "4    1\n",
       "Name: Outcome, dtype: int64"
      ]
     },
     "execution_count": 93,
     "metadata": {},
     "output_type": "execute_result"
    }
   ],
   "source": [
    "y.head()"
   ]
  },
  {
   "cell_type": "code",
   "execution_count": 94,
   "metadata": {},
   "outputs": [
    {
     "name": "stdout",
     "output_type": "stream",
     "text": [
      "(460, 8) (460,)\n",
      "(308, 8) (308,)\n"
     ]
    }
   ],
   "source": [
    "from sklearn.metrics import mean_squared_error as MSE\n",
    "# Split data into 60% train and 40% test\n",
    "X_train, X_test, y_train, y_test= train_test_split(X,y,test_size=0.4,random_state=3)\n",
    "print(X_train.shape, y_train.shape)\n",
    "print(X_test.shape, y_test.shape)\n",
    "# Instantiate dt, set 'criterion' to 'gini'\n",
    "dt = DecisionTreeClassifier(criterion='gini', max_depth=3,random_state=1)"
   ]
  },
  {
   "cell_type": "code",
   "execution_count": 95,
   "metadata": {},
   "outputs": [
    {
     "name": "stdout",
     "output_type": "stream",
     "text": [
      "Accuracy score: 0.685\n",
      "Test MSE: 0.315\n",
      "Test RMSE: 0.561\n"
     ]
    }
   ],
   "source": [
    "# Fit DecisionTreeClassifier (dt) to the training set and calculate accuracy score, and Mean squared error for test data\n",
    "dt.fit(X_train,y_train)\n",
    "# Predict test-set labels\n",
    "y_pred= dt.predict(X_test)\n",
    "# Evaluate test-set accuracy\n",
    "print('Accuracy score: {:.3f}'.format(accuracy_score(y_test, y_pred)))\n",
    "# Compute test-set MSE\n",
    "#mse_dt = MSE(y_test, y_pred)\n",
    "print('Test MSE: {:.3f}'.format(MSE(y_test, y_pred)))\n",
    "# Compute test-set RMSE\n",
    "#rmse_dt = mse_dt**(1/2)\n",
    "print('Test RMSE: {:.3f}'.format(MSE(y_test, y_pred)**(1/2)))"
   ]
  },
  {
   "cell_type": "markdown",
   "metadata": {},
   "source": [
    "#### Accuracy score improved and got lower MSE with higher test_size. For test_size of either 0.2 or 0.3, the accuracy score and MSE for test data is 0.649 and 0.351 respectively. max_depth is also impacting the score and MSE. if depth=2, the score was above 0.7 and MSE is below 0.3, if depth=3, the score and MSE are 0.685, and 0.315 respectively.  "
   ]
  },
  {
   "cell_type": "code",
   "execution_count": 110,
   "metadata": {},
   "outputs": [
    {
     "name": "stdout",
     "output_type": "stream",
     "text": [
      "              precision    recall  f1-score   support\n",
      "\n",
      "           0       0.67      0.91      0.77       183\n",
      "           1       0.73      0.35      0.48       125\n",
      "\n",
      "    accuracy                           0.69       308\n",
      "   macro avg       0.70      0.63      0.63       308\n",
      "weighted avg       0.70      0.69      0.65       308\n",
      "\n"
     ]
    }
   ],
   "source": [
    "from sklearn.metrics import classification_report, confusion_matrix\n",
    "print(classification_report(y_test, y_pred))"
   ]
  },
  {
   "cell_type": "code",
   "execution_count": 111,
   "metadata": {},
   "outputs": [
    {
     "name": "stdout",
     "output_type": "stream",
     "text": [
      "[[167  16]\n",
      " [ 81  44]]\n"
     ]
    }
   ],
   "source": [
    "print(confusion_matrix(y_test, y_pred))"
   ]
  },
  {
   "cell_type": "code",
   "execution_count": 107,
   "metadata": {},
   "outputs": [
    {
     "data": {
      "text/plain": [
       "array([[0.94152047, 0.05847953],\n",
       "       [0.28947368, 0.71052632],\n",
       "       [0.94152047, 0.05847953],\n",
       "       [1.        , 0.        ],\n",
       "       [0.56692913, 0.43307087],\n",
       "       [0.76923077, 0.23076923],\n",
       "       [0.56692913, 0.43307087],\n",
       "       [0.94152047, 0.05847953],\n",
       "       [0.56692913, 0.43307087],\n",
       "       [0.94152047, 0.05847953]])"
      ]
     },
     "execution_count": 107,
     "metadata": {},
     "output_type": "execute_result"
    }
   ],
   "source": [
    "dt.predict_proba(X_test)[0:10]"
   ]
  },
  {
   "cell_type": "code",
   "execution_count": 108,
   "metadata": {},
   "outputs": [
    {
     "data": {
      "text/plain": [
       "array([0, 1, 0, 0, 0, 0, 0, 0, 0, 0], dtype=int64)"
      ]
     },
     "execution_count": 108,
     "metadata": {},
     "output_type": "execute_result"
    }
   ],
   "source": [
    "dt.predict(X_test)[0:10]"
   ]
  },
  {
   "cell_type": "code",
   "execution_count": 96,
   "metadata": {},
   "outputs": [
    {
     "name": "stdout",
     "output_type": "stream",
     "text": [
      "Predicted class [0 1 0 0 0 0 0 0 0 0 0 0 0 1 0 0 0 0 0 0 0 0 0 0 0 1 0 0 0 0 1 0 0 0 0 0 0\n",
      " 0 0 0 0 0 0 0 0 0 0 0 1 0 0 0 0 0 1 0 1 0 0 0 1 0 0 0 0 0 1 1 0 0 0 1 0 0\n",
      " 0 1 0 0 0 0 0 1 0 1 1 0 0 0 0 0 1 1 0 0 0 0 0 0 1 0 0 1 0 1 0 0 0 0 0 0 0\n",
      " 0 1 1 0 0 1 0 1 0 0 0 0 0 0 0 0 0 0 1 1 0 1 0 0 0 0 0 0 0 0 0 0 0 0 0 0 0\n",
      " 0 0 0 0 1 0 0 0 0 1 1 0 1 0 0 0 0 1 1 0 1 0 0 0 0 0 0 0 0 0 0 1 0 0 0 0 1\n",
      " 1 0 0 0 0 0 0 0 1 0 0 0 0 0 0 0 0 0 1 1 0 1 0 0 0 0 1 0 0 1 1 0 0 0 0 0 0\n",
      " 0 1 0 0 0 0 0 1 0 0 1 1 1 1 1 0 0 1 0 0 0 0 0 0 0 1 0 0 0 0 0 0 0 0 0 0 0\n",
      " 0 1 0 0 0 0 1 0 0 0 0 1 0 0 1 0 0 0 0 0 0 0 0 1 0 0 0 1 0 0 0 0 1 0 0 0 0\n",
      " 0 0 0 0 0 0 0 0 0 0 0 0]\n"
     ]
    }
   ],
   "source": [
    "print( 'Predicted class %s' % (y_pred))"
   ]
  },
  {
   "cell_type": "code",
   "execution_count": 97,
   "metadata": {},
   "outputs": [
    {
     "name": "stdout",
     "output_type": "stream",
     "text": [
      "Probabilities for each class from 0 to 2: [[0.94152047 0.05847953]\n",
      " [0.28947368 0.71052632]\n",
      " [0.94152047 0.05847953]\n",
      " [1.         0.        ]\n",
      " [0.56692913 0.43307087]\n",
      " [0.76923077 0.23076923]\n",
      " [0.56692913 0.43307087]\n",
      " [0.94152047 0.05847953]\n",
      " [0.56692913 0.43307087]\n",
      " [0.94152047 0.05847953]\n",
      " [0.6875     0.3125    ]\n",
      " [0.92105263 0.07894737]\n",
      " [0.94152047 0.05847953]\n",
      " [0.1025641  0.8974359 ]\n",
      " [0.56692913 0.43307087]\n",
      " [0.94152047 0.05847953]\n",
      " [0.94152047 0.05847953]\n",
      " [0.94152047 0.05847953]\n",
      " [0.56692913 0.43307087]\n",
      " [0.56692913 0.43307087]\n",
      " [0.94152047 0.05847953]\n",
      " [0.94152047 0.05847953]\n",
      " [0.94152047 0.05847953]\n",
      " [0.6875     0.3125    ]\n",
      " [0.94152047 0.05847953]\n",
      " [0.1025641  0.8974359 ]\n",
      " [0.94152047 0.05847953]\n",
      " [0.94152047 0.05847953]\n",
      " [0.56692913 0.43307087]\n",
      " [0.6875     0.3125    ]\n",
      " [0.1025641  0.8974359 ]\n",
      " [0.56692913 0.43307087]\n",
      " [0.56692913 0.43307087]\n",
      " [0.6875     0.3125    ]\n",
      " [0.56692913 0.43307087]\n",
      " [0.94152047 0.05847953]\n",
      " [0.6875     0.3125    ]\n",
      " [0.56692913 0.43307087]\n",
      " [0.94152047 0.05847953]\n",
      " [0.56692913 0.43307087]\n",
      " [0.56692913 0.43307087]\n",
      " [0.94152047 0.05847953]\n",
      " [0.56692913 0.43307087]\n",
      " [0.94152047 0.05847953]\n",
      " [0.56692913 0.43307087]\n",
      " [0.56692913 0.43307087]\n",
      " [0.94152047 0.05847953]\n",
      " [0.56692913 0.43307087]\n",
      " [0.28947368 0.71052632]\n",
      " [0.94152047 0.05847953]\n",
      " [0.6875     0.3125    ]\n",
      " [0.76923077 0.23076923]\n",
      " [0.94152047 0.05847953]\n",
      " [0.56692913 0.43307087]\n",
      " [0.28947368 0.71052632]\n",
      " [0.94152047 0.05847953]\n",
      " [0.28947368 0.71052632]\n",
      " [0.56692913 0.43307087]\n",
      " [0.56692913 0.43307087]\n",
      " [0.94152047 0.05847953]\n",
      " [0.1025641  0.8974359 ]\n",
      " [0.94152047 0.05847953]\n",
      " [0.56692913 0.43307087]\n",
      " [0.56692913 0.43307087]\n",
      " [0.6875     0.3125    ]\n",
      " [0.56692913 0.43307087]\n",
      " [0.28947368 0.71052632]\n",
      " [0.28947368 0.71052632]\n",
      " [0.94152047 0.05847953]\n",
      " [0.94152047 0.05847953]\n",
      " [0.76923077 0.23076923]\n",
      " [0.28947368 0.71052632]\n",
      " [0.94152047 0.05847953]\n",
      " [0.76923077 0.23076923]\n",
      " [0.92105263 0.07894737]\n",
      " [0.28947368 0.71052632]\n",
      " [0.94152047 0.05847953]\n",
      " [0.94152047 0.05847953]\n",
      " [0.94152047 0.05847953]\n",
      " [0.94152047 0.05847953]\n",
      " [0.56692913 0.43307087]\n",
      " [0.28947368 0.71052632]\n",
      " [0.94152047 0.05847953]\n",
      " [0.1025641  0.8974359 ]\n",
      " [0.28947368 0.71052632]\n",
      " [0.94152047 0.05847953]\n",
      " [0.92105263 0.07894737]\n",
      " [0.56692913 0.43307087]\n",
      " [0.94152047 0.05847953]\n",
      " [0.94152047 0.05847953]\n",
      " [0.28947368 0.71052632]\n",
      " [0.1025641  0.8974359 ]\n",
      " [1.         0.        ]\n",
      " [0.92105263 0.07894737]\n",
      " [0.56692913 0.43307087]\n",
      " [0.92105263 0.07894737]\n",
      " [0.6875     0.3125    ]\n",
      " [0.92105263 0.07894737]\n",
      " [0.28947368 0.71052632]\n",
      " [0.94152047 0.05847953]\n",
      " [0.94152047 0.05847953]\n",
      " [0.28947368 0.71052632]\n",
      " [0.94152047 0.05847953]\n",
      " [0.28947368 0.71052632]\n",
      " [0.56692913 0.43307087]\n",
      " [0.56692913 0.43307087]\n",
      " [0.92105263 0.07894737]\n",
      " [0.56692913 0.43307087]\n",
      " [0.6875     0.3125    ]\n",
      " [0.6875     0.3125    ]\n",
      " [0.56692913 0.43307087]\n",
      " [0.94152047 0.05847953]\n",
      " [0.1025641  0.8974359 ]\n",
      " [0.28947368 0.71052632]\n",
      " [0.56692913 0.43307087]\n",
      " [0.56692913 0.43307087]\n",
      " [0.1025641  0.8974359 ]\n",
      " [0.76923077 0.23076923]\n",
      " [0.1025641  0.8974359 ]\n",
      " [0.56692913 0.43307087]\n",
      " [0.94152047 0.05847953]\n",
      " [0.56692913 0.43307087]\n",
      " [0.94152047 0.05847953]\n",
      " [0.56692913 0.43307087]\n",
      " [0.94152047 0.05847953]\n",
      " [0.6875     0.3125    ]\n",
      " [0.92105263 0.07894737]\n",
      " [0.56692913 0.43307087]\n",
      " [0.94152047 0.05847953]\n",
      " [0.1025641  0.8974359 ]\n",
      " [0.1025641  0.8974359 ]\n",
      " [0.92105263 0.07894737]\n",
      " [0.1025641  0.8974359 ]\n",
      " [0.94152047 0.05847953]\n",
      " [0.94152047 0.05847953]\n",
      " [0.92105263 0.07894737]\n",
      " [0.56692913 0.43307087]\n",
      " [0.56692913 0.43307087]\n",
      " [0.94152047 0.05847953]\n",
      " [0.94152047 0.05847953]\n",
      " [0.94152047 0.05847953]\n",
      " [0.94152047 0.05847953]\n",
      " [0.94152047 0.05847953]\n",
      " [0.94152047 0.05847953]\n",
      " [0.56692913 0.43307087]\n",
      " [0.94152047 0.05847953]\n",
      " [0.56692913 0.43307087]\n",
      " [0.76923077 0.23076923]\n",
      " [0.94152047 0.05847953]\n",
      " [0.6875     0.3125    ]\n",
      " [1.         0.        ]\n",
      " [0.56692913 0.43307087]\n",
      " [0.28947368 0.71052632]\n",
      " [0.92105263 0.07894737]\n",
      " [0.56692913 0.43307087]\n",
      " [0.92105263 0.07894737]\n",
      " [0.56692913 0.43307087]\n",
      " [0.28947368 0.71052632]\n",
      " [0.28947368 0.71052632]\n",
      " [0.94152047 0.05847953]\n",
      " [0.28947368 0.71052632]\n",
      " [0.56692913 0.43307087]\n",
      " [0.56692913 0.43307087]\n",
      " [0.94152047 0.05847953]\n",
      " [0.94152047 0.05847953]\n",
      " [0.1025641  0.8974359 ]\n",
      " [0.1025641  0.8974359 ]\n",
      " [0.92105263 0.07894737]\n",
      " [0.28947368 0.71052632]\n",
      " [0.56692913 0.43307087]\n",
      " [0.56692913 0.43307087]\n",
      " [0.56692913 0.43307087]\n",
      " [0.92105263 0.07894737]\n",
      " [0.92105263 0.07894737]\n",
      " [0.56692913 0.43307087]\n",
      " [0.94152047 0.05847953]\n",
      " [0.76923077 0.23076923]\n",
      " [0.56692913 0.43307087]\n",
      " [0.56692913 0.43307087]\n",
      " [0.1025641  0.8974359 ]\n",
      " [0.94152047 0.05847953]\n",
      " [0.94152047 0.05847953]\n",
      " [0.76923077 0.23076923]\n",
      " [0.94152047 0.05847953]\n",
      " [0.1025641  0.8974359 ]\n",
      " [0.28947368 0.71052632]\n",
      " [0.56692913 0.43307087]\n",
      " [0.94152047 0.05847953]\n",
      " [0.56692913 0.43307087]\n",
      " [0.92105263 0.07894737]\n",
      " [0.94152047 0.05847953]\n",
      " [0.56692913 0.43307087]\n",
      " [0.92105263 0.07894737]\n",
      " [0.1025641  0.8974359 ]\n",
      " [0.94152047 0.05847953]\n",
      " [0.94152047 0.05847953]\n",
      " [0.56692913 0.43307087]\n",
      " [0.94152047 0.05847953]\n",
      " [0.94152047 0.05847953]\n",
      " [0.94152047 0.05847953]\n",
      " [0.94152047 0.05847953]\n",
      " [0.56692913 0.43307087]\n",
      " [0.94152047 0.05847953]\n",
      " [0.28947368 0.71052632]\n",
      " [0.1025641  0.8974359 ]\n",
      " [0.56692913 0.43307087]\n",
      " [0.1025641  0.8974359 ]\n",
      " [0.76923077 0.23076923]\n",
      " [0.94152047 0.05847953]\n",
      " [0.56692913 0.43307087]\n",
      " [0.94152047 0.05847953]\n",
      " [0.1025641  0.8974359 ]\n",
      " [0.56692913 0.43307087]\n",
      " [0.56692913 0.43307087]\n",
      " [0.1025641  0.8974359 ]\n",
      " [0.1025641  0.8974359 ]\n",
      " [0.56692913 0.43307087]\n",
      " [0.56692913 0.43307087]\n",
      " [0.94152047 0.05847953]\n",
      " [0.92105263 0.07894737]\n",
      " [0.6875     0.3125    ]\n",
      " [0.6875     0.3125    ]\n",
      " [0.94152047 0.05847953]\n",
      " [0.1025641  0.8974359 ]\n",
      " [0.56692913 0.43307087]\n",
      " [0.76923077 0.23076923]\n",
      " [0.94152047 0.05847953]\n",
      " [0.76923077 0.23076923]\n",
      " [0.56692913 0.43307087]\n",
      " [0.1025641  0.8974359 ]\n",
      " [0.56692913 0.43307087]\n",
      " [0.56692913 0.43307087]\n",
      " [0.1025641  0.8974359 ]\n",
      " [0.1025641  0.8974359 ]\n",
      " [0.1025641  0.8974359 ]\n",
      " [0.1025641  0.8974359 ]\n",
      " [0.1025641  0.8974359 ]\n",
      " [0.94152047 0.05847953]\n",
      " [0.92105263 0.07894737]\n",
      " [0.1025641  0.8974359 ]\n",
      " [0.94152047 0.05847953]\n",
      " [0.92105263 0.07894737]\n",
      " [0.94152047 0.05847953]\n",
      " [0.94152047 0.05847953]\n",
      " [0.56692913 0.43307087]\n",
      " [0.56692913 0.43307087]\n",
      " [0.56692913 0.43307087]\n",
      " [0.28947368 0.71052632]\n",
      " [0.94152047 0.05847953]\n",
      " [0.56692913 0.43307087]\n",
      " [0.94152047 0.05847953]\n",
      " [0.94152047 0.05847953]\n",
      " [0.6875     0.3125    ]\n",
      " [0.56692913 0.43307087]\n",
      " [0.6875     0.3125    ]\n",
      " [0.94152047 0.05847953]\n",
      " [0.56692913 0.43307087]\n",
      " [0.56692913 0.43307087]\n",
      " [0.6875     0.3125    ]\n",
      " [0.56692913 0.43307087]\n",
      " [0.1025641  0.8974359 ]\n",
      " [0.6875     0.3125    ]\n",
      " [0.76923077 0.23076923]\n",
      " [0.56692913 0.43307087]\n",
      " [0.92105263 0.07894737]\n",
      " [0.28947368 0.71052632]\n",
      " [0.94152047 0.05847953]\n",
      " [0.56692913 0.43307087]\n",
      " [0.94152047 0.05847953]\n",
      " [0.56692913 0.43307087]\n",
      " [0.1025641  0.8974359 ]\n",
      " [0.76923077 0.23076923]\n",
      " [0.76923077 0.23076923]\n",
      " [0.1025641  0.8974359 ]\n",
      " [0.56692913 0.43307087]\n",
      " [0.94152047 0.05847953]\n",
      " [0.56692913 0.43307087]\n",
      " [0.92105263 0.07894737]\n",
      " [0.94152047 0.05847953]\n",
      " [0.94152047 0.05847953]\n",
      " [0.92105263 0.07894737]\n",
      " [0.94152047 0.05847953]\n",
      " [0.1025641  0.8974359 ]\n",
      " [0.94152047 0.05847953]\n",
      " [0.56692913 0.43307087]\n",
      " [0.92105263 0.07894737]\n",
      " [0.1025641  0.8974359 ]\n",
      " [0.94152047 0.05847953]\n",
      " [0.94152047 0.05847953]\n",
      " [0.94152047 0.05847953]\n",
      " [0.56692913 0.43307087]\n",
      " [0.28947368 0.71052632]\n",
      " [0.94152047 0.05847953]\n",
      " [0.94152047 0.05847953]\n",
      " [0.56692913 0.43307087]\n",
      " [0.92105263 0.07894737]\n",
      " [0.92105263 0.07894737]\n",
      " [0.94152047 0.05847953]\n",
      " [0.92105263 0.07894737]\n",
      " [0.94152047 0.05847953]\n",
      " [0.56692913 0.43307087]\n",
      " [0.56692913 0.43307087]\n",
      " [0.94152047 0.05847953]\n",
      " [0.56692913 0.43307087]\n",
      " [0.94152047 0.05847953]\n",
      " [0.56692913 0.43307087]\n",
      " [0.94152047 0.05847953]\n",
      " [0.94152047 0.05847953]]\n"
     ]
    }
   ],
   "source": [
    "print( 'Probabilities for each class from 0 to 2: %s' % dt.predict_proba(X_test))"
   ]
  },
  {
   "cell_type": "markdown",
   "metadata": {},
   "source": [
    "#### Probabilites for each patient in the test dataset whether or not she is a diabetic"
   ]
  },
  {
   "cell_type": "code",
   "execution_count": 98,
   "metadata": {},
   "outputs": [],
   "source": [
    "# Instantiate decision tree regressor and assign it to 'dtr'\n",
    "dtr = DecisionTreeRegressor(max_depth=4, min_samples_leaf=0.2, random_state=1)"
   ]
  },
  {
   "cell_type": "code",
   "execution_count": 99,
   "metadata": {},
   "outputs": [],
   "source": [
    "MSE_CV = - cross_val_score(dtr, X_train, y_train, cv=20,\n",
    "scoring='neg_mean_squared_error',n_jobs = -1)\n",
    "# Fit decision tree regressor 'dtr' to the training set\n",
    "dtr.fit(X_train, y_train)\n",
    "# Predict the labels of training set\n",
    "y_predict_train = dtr.predict(X_train)\n",
    "# Predict the labels of test set\n",
    "y_predict_test = dtr.predict(X_test)"
   ]
  },
  {
   "cell_type": "code",
   "execution_count": 100,
   "metadata": {},
   "outputs": [
    {
     "name": "stdout",
     "output_type": "stream",
     "text": [
      "CV MSE: 0.183\n",
      "Train MSE: 0.160\n",
      "Test MSE: 0.194\n"
     ]
    }
   ],
   "source": [
    "# CV MSE\n",
    "print('CV MSE: {:.3f}'.format(MSE_CV.mean()))\n",
    "\n",
    "# Training set MSE\n",
    "print('Train MSE: {:.3f}'.format(MSE(y_train, y_predict_train)))\n",
    "\n",
    "# Test set MSE\n",
    "print('Test MSE: {:.3f}'.format(MSE(y_test, y_predict_test)))\n"
   ]
  },
  {
   "cell_type": "markdown",
   "metadata": {},
   "source": [
    "#### For CV values of 10, 5, 15, 20 then CV_MSE values are: 0.174, 0.175, 0.177, and 0.183 respectively"
   ]
  },
  {
   "cell_type": "code",
   "execution_count": 101,
   "metadata": {},
   "outputs": [
    {
     "data": {
      "text/plain": [
       "[Text(167.4, 190.26, 'X[1] <= 144.5\\nentropy = 0.428\\nsamples = 460\\nvalue = [317, 143]'),\n",
       " Text(83.7, 135.9, 'X[7] <= 28.5\\nentropy = 0.334\\nsamples = 368\\nvalue = [290, 78]'),\n",
       " Text(41.85, 81.53999999999999, 'X[1] <= 127.5\\nentropy = 0.178\\nsamples = 203\\nvalue = [183, 20]'),\n",
       " Text(20.925, 27.180000000000007, 'entropy = 0.11\\nsamples = 171\\nvalue = [161, 10]'),\n",
       " Text(62.775000000000006, 27.180000000000007, 'entropy = 0.43\\nsamples = 32\\nvalue = [22, 10]'),\n",
       " Text(125.55000000000001, 81.53999999999999, 'X[5] <= 27.55\\nentropy = 0.456\\nsamples = 165\\nvalue = [107, 58]'),\n",
       " Text(104.625, 27.180000000000007, 'entropy = 0.145\\nsamples = 38\\nvalue = [35, 3]'),\n",
       " Text(146.475, 27.180000000000007, 'entropy = 0.491\\nsamples = 127\\nvalue = [72, 55]'),\n",
       " Text(251.10000000000002, 135.9, 'X[1] <= 166.5\\nentropy = 0.415\\nsamples = 92\\nvalue = [27, 65]'),\n",
       " Text(209.25, 81.53999999999999, 'X[4] <= 166.5\\nentropy = 0.484\\nsamples = 51\\nvalue = [21, 30]'),\n",
       " Text(188.32500000000002, 27.180000000000007, 'entropy = 0.411\\nsamples = 38\\nvalue = [11, 27]'),\n",
       " Text(230.175, 27.180000000000007, 'entropy = 0.355\\nsamples = 13\\nvalue = [10, 3]'),\n",
       " Text(292.95, 81.53999999999999, 'X[7] <= 59.5\\nentropy = 0.25\\nsamples = 41\\nvalue = [6, 35]'),\n",
       " Text(272.02500000000003, 27.180000000000007, 'entropy = 0.184\\nsamples = 39\\nvalue = [4, 35]'),\n",
       " Text(313.875, 27.180000000000007, 'entropy = 0.0\\nsamples = 2\\nvalue = [2, 0]')]"
      ]
     },
     "execution_count": 101,
     "metadata": {},
     "output_type": "execute_result"
    },
    {
     "data": {
      "image/png": "[encoded data removed]",
      "text/plain": [
       "<Figure size 432x288 with 1 Axes>"
      ]
     },
     "metadata": {
      "needs_background": "light"
     },
     "output_type": "display_data"
    }
   ],
   "source": [
    "tree.plot_tree(dt)\n"
   ]
  },
  {
   "cell_type": "code",
   "execution_count": 113,
   "metadata": {},
   "outputs": [],
   "source": [
    "from sklearn.tree.export import export_graphviz"
   ]
  },
  {
   "cell_type": "code",
   "execution_count": 115,
   "metadata": {},
   "outputs": [],
   "source": [
    "export_graphviz(dt,out_file ='tree.dot', feature_names = X.columns)"
   ]
  },
  {
   "attachments": {
    "decisiontree.PNG": {
     "image/png": "[encoded data removed]"
    }
   },
   "cell_type": "markdown",
   "metadata": {},
   "source": [
    "![decisiontree.PNG](attachment:decisiontree.PNG)"
   ]
  },
  {
   "cell_type": "code",
   "execution_count": 102,
   "metadata": {},
   "outputs": [
    {
     "data": {
      "text/plain": [
       "[Text(223.20000000000002, 190.26, 'X[1] <= 144.5\\nentropy = 0.214\\nsamples = 460\\nvalue = 0.311'),\n",
       " Text(167.4, 135.9, 'X[7] <= 28.5\\nentropy = 0.167\\nsamples = 368\\nvalue = 0.212'),\n",
       " Text(111.60000000000001, 81.53999999999999, 'X[5] <= 29.95\\nentropy = 0.089\\nsamples = 203\\nvalue = 0.099'),\n",
       " Text(55.800000000000004, 27.180000000000007, 'entropy = 0.02\\nsamples = 97\\nvalue = 0.021'),\n",
       " Text(167.4, 27.180000000000007, 'entropy = 0.141\\nsamples = 106\\nvalue = 0.17'),\n",
       " Text(223.20000000000002, 81.53999999999999, 'entropy = 0.228\\nsamples = 165\\nvalue = 0.352'),\n",
       " Text(279.0, 135.9, 'entropy = 0.207\\nsamples = 92\\nvalue = 0.707')]"
      ]
     },
     "execution_count": 102,
     "metadata": {},
     "output_type": "execute_result"
    },
    {
     "data": {
      "image/png": "[encoded data removed]",
      "text/plain": [
       "<Figure size 432x288 with 1 Axes>"
      ]
     },
     "metadata": {
      "needs_background": "light"
     },
     "output_type": "display_data"
    }
   ],
   "source": [
    "tree.plot_tree(dtr)"
   ]
  },
  {
   "cell_type": "markdown",
   "metadata": {},
   "source": [
    "#### I think this is a classfication problem and not a regression problem, so using DecisionTreeClassifier model is appropriate."
   ]
  },
  {
   "cell_type": "code",
   "execution_count": null,
   "metadata": {},
   "outputs": [],
   "source": []
  }
 ],
 "metadata": {
  "kernelspec": {
   "display_name": "Python 3",
   "language": "python",
   "name": "python3"
  },
  "language_info": {
   "codemirror_mode": {
    "name": "ipython",
    "version": 3
   },
   "file_extension": ".py",
   "mimetype": "text/x-python",
   "name": "python",
   "nbconvert_exporter": "python",
   "pygments_lexer": "ipython3",
   "version": "3.7.3"
  }
 },
 "nbformat": 4,
 "nbformat_minor": 2
}
